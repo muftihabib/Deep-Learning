{
 "cells": [
  {
   "cell_type": "code",
   "execution_count": 110,
   "metadata": {},
   "outputs": [],
   "source": [
    "import torch\n",
    "import torchvision\n",
    "import matplotlib.pyplot as plt\n",
    "%matplotlib inline\n",
    "from torchvision.datasets import MNIST\n",
    "import torchvision.transforms as transforms\n",
    "from torch.utils.data import random_split\n",
    "from torch.utils.data import DataLoader"
   ]
  },
  {
   "cell_type": "code",
   "execution_count": 111,
   "metadata": {},
   "outputs": [],
   "source": [
    "# Download training dataset\n",
    "dataset = MNIST (root = 'Data1/', download=True)"
   ]
  },
  {
   "cell_type": "code",
   "execution_count": 112,
   "metadata": {},
   "outputs": [
    {
     "data": {
      "text/plain": [
       "60000"
      ]
     },
     "execution_count": 112,
     "metadata": {},
     "output_type": "execute_result"
    }
   ],
   "source": [
    "len(dataset)"
   ]
  },
  {
   "cell_type": "code",
   "execution_count": 113,
   "metadata": {},
   "outputs": [
    {
     "data": {
      "text/plain": [
       "10000"
      ]
     },
     "execution_count": 113,
     "metadata": {},
     "output_type": "execute_result"
    }
   ],
   "source": [
    "test_dataset = MNIST(root='Data1/', train=False)\n",
    "len(test_dataset)"
   ]
  },
  {
   "cell_type": "code",
   "execution_count": 114,
   "metadata": {},
   "outputs": [
    {
     "data": {
      "text/plain": [
       "(<PIL.Image.Image image mode=L size=28x28>, 5)"
      ]
     },
     "execution_count": 114,
     "metadata": {},
     "output_type": "execute_result"
    }
   ],
   "source": [
    "dataset[0]"
   ]
  },
  {
   "cell_type": "code",
   "execution_count": 115,
   "metadata": {},
   "outputs": [
    {
     "name": "stdout",
     "output_type": "stream",
     "text": [
      "label: 5\n"
     ]
    },
    {
     "data": {
      "image/png": "[encoded data removed]",
      "text/plain": [
       "<Figure size 640x480 with 1 Axes>"
      ]
     },
     "metadata": {},
     "output_type": "display_data"
    }
   ],
   "source": [
    "image, label = dataset[0]\n",
    "plt.imshow(image, cmap='gray')\n",
    "print('label:', label)"
   ]
  },
  {
   "cell_type": "code",
   "execution_count": 116,
   "metadata": {},
   "outputs": [
    {
     "name": "stdout",
     "output_type": "stream",
     "text": [
      "label: 3\n"
     ]
    },
    {
     "data": {
      "image/png": "[encoded data removed]",
      "text/plain": [
       "<Figure size 640x480 with 1 Axes>"
      ]
     },
     "metadata": {},
     "output_type": "display_data"
    }
   ],
   "source": [
    "image, label = dataset[10]\n",
    "plt.imshow(image, cmap='gray')\n",
    "print('label:', label)"
   ]
  },
  {
   "cell_type": "code",
   "execution_count": 117,
   "metadata": {},
   "outputs": [],
   "source": [
    "# MNIST dataset (image and labels)\n",
    "dataset = MNIST(root='Data1/', train= True,\n",
    "                transform=transforms.ToTensor())"
   ]
  },
  {
   "cell_type": "code",
   "execution_count": 118,
   "metadata": {},
   "outputs": [
    {
     "name": "stdout",
     "output_type": "stream",
     "text": [
      "torch.Size([1, 28, 28]) 5\n"
     ]
    }
   ],
   "source": [
    "img_tensor, label = dataset[0]\n",
    "print(img_tensor.shape, label)"
   ]
  },
  {
   "cell_type": "code",
   "execution_count": 119,
   "metadata": {},
   "outputs": [
    {
     "name": "stdout",
     "output_type": "stream",
     "text": [
      "tensor([[[0.0039, 0.6039, 0.9922, 0.3529, 0.0000],\n",
      "         [0.0000, 0.5451, 0.9922, 0.7451, 0.0078],\n",
      "         [0.0000, 0.0431, 0.7451, 0.9922, 0.2745],\n",
      "         [0.0000, 0.0000, 0.1373, 0.9451, 0.8824],\n",
      "         [0.0000, 0.0000, 0.0000, 0.3176, 0.9412]]])\n",
      "tensor(1.) tensor(0.)\n"
     ]
    }
   ],
   "source": [
    "print(img_tensor[:,10:15,10:15])\n",
    "print(torch.max(img_tensor), torch.min(img_tensor))"
   ]
  },
  {
   "cell_type": "code",
   "execution_count": 120,
   "metadata": {},
   "outputs": [
    {
     "data": {
      "text/plain": [
       "<matplotlib.image.AxesImage at 0x1c9fe7d8310>"
      ]
     },
     "execution_count": 120,
     "metadata": {},
     "output_type": "execute_result"
    },
    {
     "data": {
      "image/png": "[encoded data removed]",
      "text/plain": [
       "<Figure size 640x480 with 1 Axes>"
      ]
     },
     "metadata": {},
     "output_type": "display_data"
    }
   ],
   "source": [
    "# plot the image \n",
    "plt.imshow(img_tensor[0,10:15,10:15], cmap='gray')"
   ]
  },
  {
   "cell_type": "code",
   "execution_count": 121,
   "metadata": {},
   "outputs": [
    {
     "name": "stdout",
     "output_type": "stream",
     "text": [
      "50000 10000\n"
     ]
    }
   ],
   "source": [
    "train_ds, val_ds = random_split(dataset, [50000, 10000])\n",
    "print(len(train_ds), len(val_ds))"
   ]
  },
  {
   "cell_type": "code",
   "execution_count": 122,
   "metadata": {},
   "outputs": [],
   "source": [
    "batch_size = 128\n",
    "train_loader = DataLoader(train_ds, batch_size, shuffle=True)\n",
    "val_loader = DataLoader(val_ds, batch_size)"
   ]
  },
  {
   "cell_type": "code",
   "execution_count": 123,
   "metadata": {},
   "outputs": [],
   "source": [
    "import torch.nn as nn\n",
    "input_size = 28*28\n",
    "num_classes = 10\n",
    "model = nn.Linear(input_size, num_classes)"
   ]
  },
  {
   "cell_type": "code",
   "execution_count": 124,
   "metadata": {},
   "outputs": [
    {
     "name": "stdout",
     "output_type": "stream",
     "text": [
      "torch.Size([10, 784])\n"
     ]
    },
    {
     "data": {
      "text/plain": [
       "Parameter containing:\n",
       "tensor([[-0.0154, -0.0042, -0.0067,  ..., -0.0254, -0.0182, -0.0046],\n",
       "        [ 0.0087, -0.0066,  0.0252,  ..., -0.0006, -0.0211, -0.0199],\n",
       "        [ 0.0228,  0.0232,  0.0349,  ...,  0.0236, -0.0337,  0.0002],\n",
       "        ...,\n",
       "        [-0.0228,  0.0194,  0.0266,  ..., -0.0166,  0.0019, -0.0231],\n",
       "        [-0.0146,  0.0322, -0.0284,  ...,  0.0280, -0.0233,  0.0129],\n",
       "        [-0.0322,  0.0328,  0.0100,  ...,  0.0321,  0.0133,  0.0158]],\n",
       "       requires_grad=True)"
      ]
     },
     "execution_count": 124,
     "metadata": {},
     "output_type": "execute_result"
    }
   ],
   "source": [
    "print(model.weight.shape)\n",
    "model.weight"
   ]
  },
  {
   "cell_type": "code",
   "execution_count": 125,
   "metadata": {},
   "outputs": [
    {
     "name": "stdout",
     "output_type": "stream",
     "text": [
      "torch.Size([10])\n"
     ]
    },
    {
     "data": {
      "text/plain": [
       "Parameter containing:\n",
       "tensor([-0.0281,  0.0259, -0.0066, -0.0118, -0.0175, -0.0201,  0.0101, -0.0186,\n",
       "        -0.0059,  0.0205], requires_grad=True)"
      ]
     },
     "execution_count": 125,
     "metadata": {},
     "output_type": "execute_result"
    }
   ],
   "source": [
    "print(model.bias.shape)\n",
    "model.bias"
   ]
  },
  {
   "cell_type": "code",
   "execution_count": 126,
   "metadata": {},
   "outputs": [
    {
     "name": "stdout",
     "output_type": "stream",
     "text": [
      "tensor([0, 7, 0, 3, 0, 7, 2, 7, 6, 5, 9, 6, 9, 2, 7, 3, 7, 4, 9, 9, 5, 4, 1, 8,\n",
      "        3, 8, 5, 2, 6, 9, 1, 4, 6, 4, 0, 2, 9, 7, 8, 5, 6, 1, 2, 4, 8, 2, 0, 4,\n",
      "        3, 4, 0, 4, 2, 0, 8, 8, 7, 9, 7, 8, 2, 0, 9, 7, 4, 1, 7, 9, 2, 8, 1, 1,\n",
      "        5, 1, 9, 1, 4, 8, 2, 0, 0, 0, 7, 6, 0, 2, 7, 4, 0, 3, 1, 2, 3, 5, 0, 5,\n",
      "        5, 9, 9, 4, 6, 9, 5, 0, 1, 2, 7, 3, 6, 3, 1, 4, 0, 2, 5, 6, 7, 0, 1, 7,\n",
      "        8, 1, 6, 1, 3, 1, 1, 4])\n",
      "torch.Size([128, 1, 28, 28])\n",
      "tensor([[ 0.1390, -0.1649, -0.2148,  ..., -0.0274,  0.1048, -0.1441],\n",
      "        [ 0.0793,  0.1535, -0.0788,  ...,  0.2232,  0.1287, -0.2295],\n",
      "        [ 0.1374, -0.1410, -0.4852,  ..., -0.0950, -0.0115, -0.2459],\n",
      "        ...,\n",
      "        [-0.1480,  0.0434, -0.0208,  ...,  0.0483,  0.0023,  0.0630],\n",
      "        [-0.1540, -0.0165,  0.0333,  ...,  0.1693,  0.0399,  0.1715],\n",
      "        [ 0.3477, -0.0073, -0.1139,  ...,  0.0017, -0.0501, -0.2544]],\n",
      "       grad_fn=<AddmmBackward0>)\n"
     ]
    }
   ],
   "source": [
    "for images, labels in train_loader:\n",
    "    print(labels)\n",
    "    print(images.shape)\n",
    "    outputs = model(images.reshape(128, 784))\n",
    "    print(outputs)\n",
    "    break"
   ]
  },
  {
   "cell_type": "code",
   "execution_count": 127,
   "metadata": {},
   "outputs": [
    {
     "data": {
      "text/plain": [
       "torch.Size([128, 1, 28, 28])"
      ]
     },
     "execution_count": 127,
     "metadata": {},
     "output_type": "execute_result"
    }
   ],
   "source": [
    "images.shape"
   ]
  },
  {
   "cell_type": "code",
   "execution_count": 128,
   "metadata": {},
   "outputs": [
    {
     "data": {
      "text/plain": [
       "torch.Size([128, 784])"
      ]
     },
     "execution_count": 128,
     "metadata": {},
     "output_type": "execute_result"
    }
   ],
   "source": [
    "images.reshape(128, 784).shape"
   ]
  },
  {
   "cell_type": "code",
   "execution_count": 129,
   "metadata": {},
   "outputs": [],
   "source": [
    "class MnistModel(nn.Module):\n",
    "    def __init__(self):\n",
    "        super().__init__()\n",
    "        self.linear = nn.Linear(input_size, num_classes)\n",
    "    def forward(self, xb):\n",
    "        xb = xb.reshape(-1, 784)\n",
    "        out = self.linear(xb)\n",
    "        return out\n",
    "model = MnistModel()    "
   ]
  },
  {
   "cell_type": "code",
   "execution_count": 130,
   "metadata": {},
   "outputs": [
    {
     "data": {
      "text/plain": [
       "Linear(in_features=784, out_features=10, bias=True)"
      ]
     },
     "execution_count": 130,
     "metadata": {},
     "output_type": "execute_result"
    }
   ],
   "source": [
    "model.linear"
   ]
  },
  {
   "cell_type": "code",
   "execution_count": 131,
   "metadata": {},
   "outputs": [
    {
     "name": "stdout",
     "output_type": "stream",
     "text": [
      "torch.Size([10, 784]) torch.Size([10])\n"
     ]
    },
    {
     "data": {
      "text/plain": [
       "[Parameter containing:\n",
       " tensor([[-0.0071, -0.0193,  0.0141,  ...,  0.0246, -0.0147, -0.0153],\n",
       "         [-0.0056,  0.0239,  0.0132,  ...,  0.0149,  0.0069, -0.0319],\n",
       "         [-0.0354,  0.0330,  0.0089,  ..., -0.0305,  0.0302, -0.0199],\n",
       "         ...,\n",
       "         [-0.0340, -0.0224,  0.0230,  ..., -0.0106,  0.0083,  0.0345],\n",
       "         [-0.0281,  0.0221, -0.0257,  ...,  0.0036,  0.0176, -0.0241],\n",
       "         [ 0.0028, -0.0343,  0.0062,  ...,  0.0286,  0.0207, -0.0132]],\n",
       "        requires_grad=True),\n",
       " Parameter containing:\n",
       " tensor([ 0.0126,  0.0092, -0.0107,  0.0188, -0.0060,  0.0295,  0.0197,  0.0134,\n",
       "          0.0353,  0.0036], requires_grad=True)]"
      ]
     },
     "execution_count": 131,
     "metadata": {},
     "output_type": "execute_result"
    }
   ],
   "source": [
    "print(model.linear.weight.shape, model.linear.bias.shape)\n",
    "list(model.parameters())"
   ]
  },
  {
   "cell_type": "code",
   "execution_count": 132,
   "metadata": {},
   "outputs": [
    {
     "name": "stdout",
     "output_type": "stream",
     "text": [
      "torch.Size([128, 1, 28, 28])\n",
      "Outputs.shape torch.Size([128, 10])\n",
      "Sample outputs: tensor([[ 0.2109,  0.1110,  0.1293, -0.2567,  0.2862,  0.4481,  0.1707, -0.2430,\n",
      "         -0.0194, -0.0370],\n",
      "        [ 0.2099,  0.2218,  0.1751,  0.1612,  0.0478,  0.0923,  0.1749, -0.3470,\n",
      "          0.0346, -0.0895]])\n"
     ]
    }
   ],
   "source": [
    "for images, labels in train_loader:\n",
    "    print(images.size())\n",
    "    outputs = model(images)\n",
    "    break\n",
    "\n",
    "print(\"Outputs.shape\", outputs.shape)\n",
    "print(\"Sample outputs:\", outputs[:2].data)"
   ]
  },
  {
   "cell_type": "code",
   "execution_count": 133,
   "metadata": {},
   "outputs": [
    {
     "data": {
      "text/plain": [
       "tensor([[ 0.2109,  0.1110,  0.1293, -0.2567,  0.2862,  0.4481,  0.1707, -0.2430,\n",
       "         -0.0194, -0.0370],\n",
       "        [ 0.2099,  0.2218,  0.1751,  0.1612,  0.0478,  0.0923,  0.1749, -0.3470,\n",
       "          0.0346, -0.0895]], grad_fn=<SliceBackward0>)"
      ]
     },
     "execution_count": 133,
     "metadata": {},
     "output_type": "execute_result"
    }
   ],
   "source": [
    "import torch.nn.functional as F\n",
    "outputs[:2]"
   ]
  },
  {
   "cell_type": "code",
   "execution_count": 134,
   "metadata": {},
   "outputs": [
    {
     "name": "stdout",
     "output_type": "stream",
     "text": [
      "Sample probablities:\n",
      " tensor([[0.1115, 0.1009, 0.1028, 0.0698, 0.1202, 0.1413, 0.1071, 0.0708, 0.0886,\n",
      "         0.0870],\n",
      "        [0.1138, 0.1151, 0.1099, 0.1084, 0.0968, 0.1012, 0.1099, 0.0652, 0.0955,\n",
      "         0.0843]])\n",
      "Sum 1.0\n"
     ]
    }
   ],
   "source": [
    "# Apply softmax for each output row\n",
    "probs = F.softmax(outputs, dim=1)\n",
    "# Look at sample probablities\n",
    "print(\"Sample probablities:\\n\", probs[:2].data)\n",
    "print(\"Sum\", torch.sum(probs[0]).item())\n"
   ]
  },
  {
   "cell_type": "code",
   "execution_count": 135,
   "metadata": {},
   "outputs": [
    {
     "name": "stdout",
     "output_type": "stream",
     "text": [
      "tensor([5, 1, 0, 6, 0, 6, 0, 4, 1, 1, 5, 6, 6, 1, 0, 6, 0, 2, 0, 0, 0, 5, 9, 2,\n",
      "        5, 2, 0, 1, 1, 9, 5, 9, 0, 0, 2, 6, 6, 1, 4, 9, 6, 2, 1, 4, 6, 0, 0, 1,\n",
      "        6, 0, 0, 6, 6, 5, 0, 2, 5, 1, 2, 0, 5, 1, 6, 0, 5, 0, 1, 1, 0, 1, 4, 0,\n",
      "        0, 0, 0, 0, 0, 0, 8, 4, 2, 6, 5, 2, 2, 2, 1, 0, 6, 0, 5, 5, 0, 6, 0, 0,\n",
      "        0, 5, 0, 1, 4, 5, 1, 0, 0, 6, 0, 0, 6, 1, 2, 0, 9, 2, 1, 6, 6, 5, 1, 0,\n",
      "        0, 6, 4, 0, 9, 0, 0, 0])\n",
      "tensor([0.1413, 0.1151, 0.1481, 0.1460, 0.1378, 0.1237, 0.1781, 0.1177, 0.1360,\n",
      "        0.1189, 0.1345, 0.1389, 0.1233, 0.1345, 0.1183, 0.1567, 0.1139, 0.1350,\n",
      "        0.1356, 0.1360, 0.1252, 0.1133, 0.1181, 0.1275, 0.1281, 0.1204, 0.1391,\n",
      "        0.1196, 0.1379, 0.1275, 0.1208, 0.1380, 0.1321, 0.1282, 0.1168, 0.1179,\n",
      "        0.1217, 0.1423, 0.1255, 0.1329, 0.1263, 0.1522, 0.1388, 0.1228, 0.1235,\n",
      "        0.1522, 0.1491, 0.1363, 0.1366, 0.1281, 0.1210, 0.1371, 0.1481, 0.1358,\n",
      "        0.1338, 0.1388, 0.1266, 0.1242, 0.1270, 0.1225, 0.1224, 0.1290, 0.1515,\n",
      "        0.1538, 0.1378, 0.1367, 0.1556, 0.1414, 0.1358, 0.1307, 0.1239, 0.1250,\n",
      "        0.1425, 0.1108, 0.1279, 0.1282, 0.1139, 0.1450, 0.1185, 0.1183, 0.1159,\n",
      "        0.1389, 0.1223, 0.1243, 0.1596, 0.1447, 0.1344, 0.1404, 0.1240, 0.1223,\n",
      "        0.1272, 0.1233, 0.1326, 0.1204, 0.1219, 0.1208, 0.1204, 0.1222, 0.1238,\n",
      "        0.1593, 0.1245, 0.1263, 0.1248, 0.1317, 0.1194, 0.1102, 0.1235, 0.1265,\n",
      "        0.1094, 0.1347, 0.1388, 0.1485, 0.1155, 0.1196, 0.1380, 0.1172, 0.1511,\n",
      "        0.1335, 0.1192, 0.1202, 0.1370, 0.1590, 0.1157, 0.1437, 0.1385, 0.1301,\n",
      "        0.1124, 0.1687], grad_fn=<MaxBackward0>)\n"
     ]
    }
   ],
   "source": [
    "max_probs, preds = torch.max(probs, dim=1)\n",
    "print(preds)\n",
    "print(max_probs)"
   ]
  },
  {
   "cell_type": "code",
   "execution_count": 136,
   "metadata": {},
   "outputs": [
    {
     "data": {
      "text/plain": [
       "tensor([7, 5, 0, 9, 0, 1, 3, 6, 9, 5, 1, 0, 1, 9, 7, 6, 7, 7, 3, 8, 6, 7, 1, 7,\n",
       "        7, 2, 3, 0, 9, 6, 9, 3, 9, 3, 4, 1, 0, 5, 8, 2, 4, 4, 9, 6, 1, 4, 8, 2,\n",
       "        9, 6, 9, 2, 0, 7, 0, 2, 7, 8, 5, 7, 2, 7, 0, 8, 9, 2, 4, 4, 9, 0, 2, 3,\n",
       "        8, 1, 4, 9, 0, 8, 6, 6, 7, 0, 9, 2, 6, 2, 0, 4, 9, 7, 1, 1, 3, 1, 3, 5,\n",
       "        8, 1, 3, 8, 4, 9, 0, 1, 7, 1, 9, 8, 1, 5, 7, 8, 1, 3, 2, 2, 0, 3, 4, 2,\n",
       "        9, 0, 9, 9, 2, 4, 6, 8])"
      ]
     },
     "execution_count": 136,
     "metadata": {},
     "output_type": "execute_result"
    }
   ],
   "source": [
    "labels"
   ]
  },
  {
   "cell_type": "code",
   "execution_count": 137,
   "metadata": {},
   "outputs": [
    {
     "data": {
      "text/plain": [
       "tensor(10)"
      ]
     },
     "execution_count": 137,
     "metadata": {},
     "output_type": "execute_result"
    }
   ],
   "source": [
    "# Total number of images true for predicted and labels\n",
    "torch.sum(preds == labels)"
   ]
  },
  {
   "cell_type": "markdown",
   "metadata": {},
   "source": [
    "<!-- Evaluation Matric Loss Function -->"
   ]
  },
  {
   "cell_type": "code",
   "execution_count": 138,
   "metadata": {},
   "outputs": [],
   "source": [
    "def accuracy(outputs, labels):\n",
    "    _, preds = torch.max(outputs, dim=1)\n",
    "    return torch.tensor(torch.sum(preds == labels).item()/ len(preds))"
   ]
  },
  {
   "cell_type": "code",
   "execution_count": 139,
   "metadata": {},
   "outputs": [
    {
     "data": {
      "text/plain": [
       "tensor(0.0781)"
      ]
     },
     "execution_count": 139,
     "metadata": {},
     "output_type": "execute_result"
    }
   ],
   "source": [
    "accuracy(outputs, labels)"
   ]
  },
  {
   "cell_type": "code",
   "execution_count": 140,
   "metadata": {},
   "outputs": [],
   "source": [
    "loss_fn = F.cross_entropy"
   ]
  },
  {
   "cell_type": "code",
   "execution_count": 141,
   "metadata": {},
   "outputs": [
    {
     "name": "stdout",
     "output_type": "stream",
     "text": [
      "tensor(2.3094, grad_fn=<NllLossBackward0>)\n"
     ]
    }
   ],
   "source": [
    "loss= loss_fn(outputs, labels)\n",
    "print(loss)"
   ]
  },
  {
   "cell_type": "markdown",
   "metadata": {},
   "source": [
    "Training the model"
   ]
  },
  {
   "cell_type": "code",
   "execution_count": 142,
   "metadata": {},
   "outputs": [],
   "source": [
    "def fit(epochs, lr,model, train_loader,val_loader ,opt_func= torch.optim.SGD):\n",
    "    optimizer = opt_func(model.parameters(), lr)\n",
    "    history = []  #For recording epoch\n",
    "    for epoch in range(epochs):\n",
    "        # Training phase\n",
    "        for batch in train_loader:\n",
    "            loss = model.training_step(batch)\n",
    "            loss.backward()\n",
    "            optimizer.step()\n",
    "            optimizer.zero_grad()\n",
    "        # Validation phase\n",
    "        result = evaluate(model, val_loader)\n",
    "        model.epoch_end(epoch, result)\n",
    "        history.append(result)\n",
    "\n",
    "    return history    "
   ]
  },
  {
   "cell_type": "code",
   "execution_count": 143,
   "metadata": {},
   "outputs": [],
   "source": [
    "def evaluate(model, val_loader):\n",
    "    outputs = [model.validation_step(batch) for batch in val_loader]\n",
    "    return model.validation_epoch_end(outputs)"
   ]
  },
  {
   "cell_type": "code",
   "execution_count": 147,
   "metadata": {},
   "outputs": [],
   "source": [
    "class MnistModel(nn.Module):\n",
    "    def __init__(self):\n",
    "        super().__init__()\n",
    "        self.linear = nn.Linear(input_size, num_classes)\n",
    "\n",
    "    def forward(self, xb):\n",
    "        xb = xb.reshape(-1, 784)\n",
    "        out = self.linear(xb)\n",
    "        return out \n",
    "\n",
    "    def training_step(self, batch):\n",
    "        images, labels = batch\n",
    "        out = self(images)                  # Generate prediction\n",
    "        loss = F.cross_entropy(out , labels) #Calculate loss\n",
    "        return loss\n",
    "\n",
    "    def validation_step(self, batch):\n",
    "        images, labels = batch \n",
    "        out = self(images)                  # Generate prediction\n",
    "        loss = F.cross_entropy(out, labels) # Calculate loss\n",
    "        acc = accuracy(out, labels)         # Calculate accuracy\n",
    "        return {'val_loss':loss, 'val_acc':acc}\n",
    "    \n",
    "    def validation_epoch_end(self, outputs):\n",
    "        batch_losses = [x['val_loss'] for x in outputs]\n",
    "        epoch_loss = torch.stack(batch_losses).mean()\n",
    "        batch_accs = [x['val_acc'] for x in outputs]\n",
    "        epoch_acc = torch.stack(batch_accs).mean()\n",
    "        return {'val_loss':epoch_loss.item(), 'val_acc':epoch_acc.item()}\n",
    "    \n",
    "    def epoch_end(self, epoch, result):\n",
    "        print(\"Epoch[{}], val_los: {:.4f}, val_acc:{:.4f}\".format(epoch, result['val_loss'], result['val_acc']))\n",
    "model = MnistModel()      \n",
    "      "
   ]
  },
  {
   "cell_type": "code",
   "execution_count": 148,
   "metadata": {},
   "outputs": [
    {
     "name": "stdout",
     "output_type": "stream",
     "text": [
      "{'val_loss': 2.34566593170166, 'val_acc': 0.07535601407289505}\n"
     ]
    }
   ],
   "source": [
    "result0 = evaluate(model,val_loader)\n",
    "print(result0)"
   ]
  },
  {
   "cell_type": "code",
   "execution_count": 149,
   "metadata": {},
   "outputs": [
    {
     "name": "stdout",
     "output_type": "stream",
     "text": [
      "Epoch[0], val_los: 1.9665, val_acc:0.6092\n",
      "Epoch[1], val_los: 1.6932, val_acc:0.7220\n",
      "Epoch[2], val_los: 1.4887, val_acc:0.7632\n",
      "Epoch[3], val_los: 1.3339, val_acc:0.7843\n",
      "Epoch[4], val_los: 1.2149, val_acc:0.7989\n"
     ]
    }
   ],
   "source": [
    "history1 = fit(5, 0.001,model, train_loader, val_loader)"
   ]
  },
  {
   "cell_type": "code",
   "execution_count": 150,
   "metadata": {},
   "outputs": [
    {
     "name": "stdout",
     "output_type": "stream",
     "text": [
      "Epoch[0], val_los: 1.1216, val_acc:0.8093\n",
      "Epoch[1], val_los: 1.0468, val_acc:0.8172\n",
      "Epoch[2], val_los: 0.9857, val_acc:0.8230\n",
      "Epoch[3], val_los: 0.9350, val_acc:0.8269\n",
      "Epoch[4], val_los: 0.8923, val_acc:0.8306\n"
     ]
    }
   ],
   "source": [
    "history2 = fit(5, 0.001,model, train_loader, val_loader)"
   ]
  },
  {
   "cell_type": "code",
   "execution_count": 151,
   "metadata": {},
   "outputs": [
    {
     "name": "stdout",
     "output_type": "stream",
     "text": [
      "Epoch[0], val_los: 0.8557, val_acc:0.8330\n",
      "Epoch[1], val_los: 0.8241, val_acc:0.8357\n",
      "Epoch[2], val_los: 0.7965, val_acc:0.8383\n",
      "Epoch[3], val_los: 0.7721, val_acc:0.8418\n",
      "Epoch[4], val_los: 0.7504, val_acc:0.8442\n"
     ]
    }
   ],
   "source": [
    "history3 = fit(5, 0.001,model, train_loader, val_loader)"
   ]
  },
  {
   "cell_type": "code",
   "execution_count": 152,
   "metadata": {},
   "outputs": [
    {
     "name": "stdout",
     "output_type": "stream",
     "text": [
      "Epoch[0], val_los: 0.7310, val_acc:0.8454\n",
      "Epoch[1], val_los: 0.7135, val_acc:0.8472\n",
      "Epoch[2], val_los: 0.6976, val_acc:0.8490\n",
      "Epoch[3], val_los: 0.6832, val_acc:0.8511\n",
      "Epoch[4], val_los: 0.6699, val_acc:0.8520\n"
     ]
    }
   ],
   "source": [
    "history4 = fit(5, 0.001,model, train_loader, val_loader)"
   ]
  },
  {
   "cell_type": "code",
   "execution_count": 154,
   "metadata": {},
   "outputs": [
    {
     "data": {
      "text/plain": [
       "Text(0.5, 1.0, 'Accuracy vs. No. of epoch')"
      ]
     },
     "execution_count": 154,
     "metadata": {},
     "output_type": "execute_result"
    },
    {
     "data": {
      "image/png": "[encoded data removed]",
      "text/plain": [
       "<Figure size 640x480 with 1 Axes>"
      ]
     },
     "metadata": {},
     "output_type": "display_data"
    }
   ],
   "source": [
    "history = [result0] + history1+history2+history3+history4\n",
    "accuracies = [result['val_acc'] for result in history]\n",
    "plt.plot(accuracies, '-x')\n",
    "plt.xlabel('Epoch')\n",
    "plt.ylabel('Accuracy')\n",
    "plt.title('Accuracy vs. No. of epoch') "
   ]
  },
  {
   "cell_type": "markdown",
   "metadata": {},
   "source": [
    "Testing with individual images\n"
   ]
  },
  {
   "cell_type": "code",
   "execution_count": 155,
   "metadata": {},
   "outputs": [],
   "source": [
    "test_dataset = MNIST(root='Data1/', train=False, \n",
    "                    transform=transforms.ToTensor())"
   ]
  },
  {
   "cell_type": "code",
   "execution_count": 159,
   "metadata": {},
   "outputs": [
    {
     "name": "stdout",
     "output_type": "stream",
     "text": [
      "Shape: torch.Size([1, 28, 28])\n",
      "Label: 7\n"
     ]
    },
    {
     "data": {
      "image/png": "[encoded data removed]",
      "text/plain": [
       "<Figure size 640x480 with 1 Axes>"
      ]
     },
     "metadata": {},
     "output_type": "display_data"
    }
   ],
   "source": [
    "img, label = test_dataset[0]\n",
    "plt.imshow(img[0], cmap = 'gray')\n",
    "print('Shape:', img.shape)\n",
    "print('Label:', label)"
   ]
  },
  {
   "cell_type": "code",
   "execution_count": 161,
   "metadata": {},
   "outputs": [
    {
     "data": {
      "text/plain": [
       "torch.Size([1, 1, 28, 28])"
      ]
     },
     "execution_count": 161,
     "metadata": {},
     "output_type": "execute_result"
    }
   ],
   "source": [
    "img.unsqueeze(0).shape"
   ]
  },
  {
   "cell_type": "code",
   "execution_count": 162,
   "metadata": {},
   "outputs": [],
   "source": [
    "def predict_image(img, model):\n",
    "    xb = img.unsqueeze(0)\n",
    "    yb = model(xb)\n",
    "    _, preds = torch.max(yb, dim=1)\n",
    "    return preds[0].item()"
   ]
  },
  {
   "cell_type": "code",
   "execution_count": 163,
   "metadata": {},
   "outputs": [
    {
     "name": "stdout",
     "output_type": "stream",
     "text": [
      "Label: 7 Predicted: 7\n"
     ]
    },
    {
     "data": {
      "image/png": "[encoded data removed]",
      "text/plain": [
       "<Figure size 640x480 with 1 Axes>"
      ]
     },
     "metadata": {},
     "output_type": "display_data"
    }
   ],
   "source": [
    "img, label = test_dataset[0]\n",
    "plt.imshow(img[0], cmap='gray')\n",
    "print('Label:', label, 'Predicted:',predict_image(img, model))"
   ]
  },
  {
   "cell_type": "code",
   "execution_count": 164,
   "metadata": {},
   "outputs": [
    {
     "name": "stdout",
     "output_type": "stream",
     "text": [
      "Label: 0 Predicted: 0\n"
     ]
    },
    {
     "data": {
      "image/png": "[encoded data removed]",
      "text/plain": [
       "<Figure size 640x480 with 1 Axes>"
      ]
     },
     "metadata": {},
     "output_type": "display_data"
    }
   ],
   "source": [
    "img, label = test_dataset[10]\n",
    "plt.imshow(img[0], cmap='gray')\n",
    "print('Label:', label, 'Predicted:',predict_image(img, model))"
   ]
  },
  {
   "cell_type": "code",
   "execution_count": 166,
   "metadata": {},
   "outputs": [
    {
     "name": "stdout",
     "output_type": "stream",
     "text": [
      "Label: 9 Predicted: 4\n"
     ]
    },
    {
     "data": {
      "image/png": "[encoded data removed]",
      "text/plain": [
       "<Figure size 640x480 with 1 Axes>"
      ]
     },
     "metadata": {},
     "output_type": "display_data"
    }
   ],
   "source": [
    "img, label = test_dataset[193]\n",
    "plt.imshow(img[0], cmap='gray')\n",
    "print('Label:', label, 'Predicted:',predict_image(img, model))"
   ]
  },
  {
   "cell_type": "code",
   "execution_count": 167,
   "metadata": {},
   "outputs": [
    {
     "name": "stdout",
     "output_type": "stream",
     "text": [
      "Label: 8 Predicted: 8\n"
     ]
    },
    {
     "data": {
      "image/png": "[encoded data removed]",
      "text/plain": [
       "<Figure size 640x480 with 1 Axes>"
      ]
     },
     "metadata": {},
     "output_type": "display_data"
    }
   ],
   "source": [
    "img, label = test_dataset[1893]\n",
    "plt.imshow(img[0], cmap='gray')\n",
    "print('Label:', label, 'Predicted:',predict_image(img, model))"
   ]
  },
  {
   "cell_type": "code",
   "execution_count": 168,
   "metadata": {},
   "outputs": [
    {
     "data": {
      "text/plain": [
       "{'val_loss': 0.6405437588691711, 'val_acc': 0.859082043170929}"
      ]
     },
     "execution_count": 168,
     "metadata": {},
     "output_type": "execute_result"
    }
   ],
   "source": [
    "test_loader = DataLoader(test_dataset, batch_size=256)\n",
    "result = evaluate(model, test_loader)\n",
    "result"
   ]
  },
  {
   "cell_type": "code",
   "execution_count": 169,
   "metadata": {},
   "outputs": [
    {
     "data": {
      "text/plain": [
       "OrderedDict([('linear.weight',\n",
       "              tensor([[ 0.0141,  0.0063, -0.0286,  ...,  0.0286,  0.0049, -0.0152],\n",
       "                      [ 0.0208, -0.0276, -0.0088,  ...,  0.0239, -0.0357, -0.0226],\n",
       "                      [-0.0161,  0.0150,  0.0013,  ..., -0.0068, -0.0251, -0.0218],\n",
       "                      ...,\n",
       "                      [ 0.0231,  0.0210, -0.0160,  ...,  0.0176, -0.0271, -0.0030],\n",
       "                      [ 0.0201,  0.0091,  0.0273,  ..., -0.0228, -0.0120, -0.0266],\n",
       "                      [ 0.0123,  0.0288,  0.0166,  ...,  0.0182, -0.0187,  0.0079]])),\n",
       "             ('linear.bias',\n",
       "              tensor([-0.0252,  0.0916, -0.0332, -0.0124,  0.0178,  0.0648,  0.0159,  0.0637,\n",
       "                      -0.1163, -0.0167]))])"
      ]
     },
     "execution_count": 169,
     "metadata": {},
     "output_type": "execute_result"
    }
   ],
   "source": [
    "model.state_dict()"
   ]
  },
  {
   "cell_type": "code",
   "execution_count": 171,
   "metadata": {},
   "outputs": [],
   "source": [
    "model2 = MnistModel()"
   ]
  },
  {
   "cell_type": "code",
   "execution_count": 172,
   "metadata": {},
   "outputs": [
    {
     "data": {
      "text/plain": [
       "OrderedDict([('linear.weight',\n",
       "              tensor([[ 0.0017,  0.0174, -0.0256,  ..., -0.0175, -0.0029,  0.0118],\n",
       "                      [ 0.0157, -0.0317,  0.0226,  ...,  0.0095,  0.0337,  0.0145],\n",
       "                      [-0.0146, -0.0194, -0.0010,  ...,  0.0300, -0.0210,  0.0092],\n",
       "                      ...,\n",
       "                      [-0.0040,  0.0012,  0.0092,  ...,  0.0314, -0.0175,  0.0078],\n",
       "                      [-0.0125, -0.0206, -0.0123,  ...,  0.0286, -0.0045, -0.0119],\n",
       "                      [ 0.0171,  0.0170,  0.0037,  ...,  0.0194, -0.0318, -0.0057]])),\n",
       "             ('linear.bias',\n",
       "              tensor([-0.0302,  0.0076, -0.0168,  0.0320,  0.0061,  0.0145,  0.0027,  0.0218,\n",
       "                      -0.0142, -0.0319]))])"
      ]
     },
     "execution_count": 172,
     "metadata": {},
     "output_type": "execute_result"
    }
   ],
   "source": [
    "model2.state_dict()"
   ]
  },
  {
   "cell_type": "code",
   "execution_count": 173,
   "metadata": {},
   "outputs": [
    {
     "data": {
      "text/plain": [
       "{'val_loss': 2.307913303375244, 'val_acc': 0.10126952826976776}"
      ]
     },
     "execution_count": 173,
     "metadata": {},
     "output_type": "execute_result"
    }
   ],
   "source": [
    "test_loader = DataLoader(test_dataset, batch_size=256)\n",
    "result = evaluate(model2, test_loader)\n",
    "result"
   ]
  }
 ],
 "metadata": {
  "kernelspec": {
   "display_name": "Python 3",
   "language": "python",
   "name": "python3"
  },
  "language_info": {
   "codemirror_mode": {
    "name": "ipython",
    "version": 3
   },
   "file_extension": ".py",
   "mimetype": "text/x-python",
   "name": "python",
   "nbconvert_exporter": "python",
   "pygments_lexer": "ipython3",
   "version": "3.11.9"
  }
 },
 "nbformat": 4,
 "nbformat_minor": 2
}
